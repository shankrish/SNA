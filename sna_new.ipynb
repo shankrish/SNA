{
 "cells": [
  {
   "cell_type": "markdown",
   "metadata": {},
   "source": [
    "# Social Network Analysis\n",
    "Social Network Analysis is the process of identifying social structures using network and graph theories. It is a specific application of graph theory in which the individuals as well as the social actors, such as groups, organizations are represented as nodes and their social relations are represented by edges.\n",
    "\n",
    "Data retrieved from Twitter is stored in the file snaFile. Each line in the file is a relation between with the Twitter users. Each line in the file starts with twitter user id followed by a list of follower's ids."
   ]
  },
  {
   "cell_type": "code",
   "execution_count": 1,
   "metadata": {
    "collapsed": false,
    "scrolled": true
   },
   "outputs": [],
   "source": [
    "from graphframes import *\n",
    "from pyspark.sql.types import BooleanType\n",
    "from pyspark.sql.functions import *\n",
    "\n",
    "sqlContext.setConf(\"spark.sql.shuffle.partitions\", \"4\")\n",
    "raw_dataframe = sqlContext.read.text('output2.txt')\n"
   ]
  },
  {
   "cell_type": "code",
   "execution_count": 2,
   "metadata": {
    "collapsed": false
   },
   "outputs": [],
   "source": [
    "\"\"\" Declare a udf function to filter out the null edge list\"\"\"\n",
    "checkNull = udf(lambda x: len(x)!=0,BooleanType())"
   ]
  },
  {
   "cell_type": "code",
   "execution_count": 3,
   "metadata": {
    "collapsed": false
   },
   "outputs": [],
   "source": [
    "def getVertexEdgeDataFrame(data):\n",
    "    \"\"\" Parse the data, clean the null values and create the vertex and edge dataframe.\n",
    "\n",
    "    Args:\n",
    "        data :  A `dataframe` consisting of raw data where each line consists of \n",
    "                twitter id followed by a list of followers id.\n",
    "\n",
    "    Returns:\n",
    "        vertex_list, edge_list_df: vertex_list is a dataframe that holds all the vertices.\n",
    "                                   edge_list_df is a dataframe that holds all the edges\n",
    "    \"\"\"\n",
    "    split_df = data.select(regexp_extract('value',r'^([^\\s]+)',1).alias('v1'),\n",
    "                           regexp_extract('value', r'^.*\\[(.*)\\]', 1).alias('v-list')) # parse the data into dest id and src list\n",
    "\n",
    "    vertex_src_dest_df = split_df.select(trim(split_df.v1).alias('v1'),split('v-list',',').alias('v-list'))\n",
    "    edge_list = vertex_src_dest_df.select(vertex_src_dest_df.v1,explode('v-list'))\n",
    "    edge_list = edge_list.select(trim(edge_list.col).alias('src'),edge_list.v1.alias('dst'))\n",
    "    edge_list_df = edge_list.filter(checkNull(edge_list.src)).cache()\n",
    "    vertex_list = edge_list_df.select(edge_list_df.src.alias('id')).distinct()\n",
    "    return vertex_list, edge_list_df"
   ]
  },
  {
   "cell_type": "markdown",
   "metadata": {},
   "source": [
    "### Create the Vertex and Edge List:\n",
    "Call the getVertexEdgeDataFrame to parse the raw_dataframe to retrieve the vertex and edge dataframe.\n"
   ]
  },
  {
   "cell_type": "code",
   "execution_count": 4,
   "metadata": {
    "collapsed": false,
    "scrolled": true
   },
   "outputs": [],
   "source": [
    "v_list,e_list = getVertexEdgeDataFrame(raw_dataframe)\n"
   ]
  },
  {
   "cell_type": "markdown",
   "metadata": {},
   "source": [
    "### Check the Vertex and Edges count\n",
    "\n",
    "Call the count api to retrieve the total number of edges and vertices\n"
   ]
  },
  {
   "cell_type": "code",
   "execution_count": 5,
   "metadata": {
    "collapsed": false
   },
   "outputs": [
    {
     "name": "stdout",
     "output_type": "stream",
     "text": [
      "Vertex list count:  52567\n",
      "Edge list count:  63166\n"
     ]
    }
   ],
   "source": [
    "print \"Vertex list count: \", v_list.count()\n",
    "print \"Edge list count: \", e_list.count()"
   ]
  },
  {
   "cell_type": "markdown",
   "metadata": {},
   "source": [
    "### Create a GraphFrame\n",
    "\n",
    "Graphframe represent a graph and holds vertices and edges as dataframes. Graphframe provide a set of apis to run graph algorithms on the data."
   ]
  },
  {
   "cell_type": "code",
   "execution_count": 6,
   "metadata": {
    "collapsed": false
   },
   "outputs": [],
   "source": [
    "sna_Graph=GraphFrame(v_list,e_list)\n"
   ]
  },
  {
   "cell_type": "markdown",
   "metadata": {},
   "source": [
    "### Graph Degree\n",
    "List the degrees of vertices in the graph.\n"
   ]
  },
  {
   "cell_type": "code",
   "execution_count": 7,
   "metadata": {
    "collapsed": false
   },
   "outputs": [
    {
     "name": "stdout",
     "output_type": "stream",
     "text": [
      "+----------+------+\n",
      "|        id|degree|\n",
      "+----------+------+\n",
      "|  37247645|   375|\n",
      "| 292417113|   323|\n",
      "| 270605608|   316|\n",
      "| 278371078|   308|\n",
      "|4841703016|   305|\n",
      "| 256641818|   300|\n",
      "| 407363823|   300|\n",
      "| 201335291|   288|\n",
      "| 342598879|   288|\n",
      "|  28000155|   283|\n",
      "|  19874185|   282|\n",
      "| 320455769|   279|\n",
      "| 362272328|   277|\n",
      "|  49862199|   276|\n",
      "|2737077493|   274|\n",
      "|  45696435|   272|\n",
      "|  48650113|   272|\n",
      "|2485443951|   269|\n",
      "| 211316487|   267|\n",
      "| 213562417|   264|\n",
      "+----------+------+\n",
      "only showing top 20 rows\n",
      "\n"
     ]
    }
   ],
   "source": [
    "sna_Graph.degrees.sort('degree',ascending=False).show()\n"
   ]
  },
  {
   "cell_type": "markdown",
   "metadata": {},
   "source": [
    "### Graph indegree\n",
    "Sort the vertices based on the inDegree and show the top 20 rows\n"
   ]
  },
  {
   "cell_type": "code",
   "execution_count": 8,
   "metadata": {
    "collapsed": false
   },
   "outputs": [
    {
     "name": "stdout",
     "output_type": "stream",
     "text": [
      "+----------+--------+\n",
      "|        id|inDegree|\n",
      "+----------+--------+\n",
      "|  37247645|     369|\n",
      "|4841703016|     304|\n",
      "| 270605608|     302|\n",
      "| 256641818|     288|\n",
      "| 278371078|     287|\n",
      "|  19874185|     281|\n",
      "| 342598879|     279|\n",
      "| 407363823|     279|\n",
      "| 201335291|     277|\n",
      "|2737077493|     273|\n",
      "|  28000155|     273|\n",
      "| 362272328|     268|\n",
      "|  45696435|     266|\n",
      "| 211316487|     266|\n",
      "|2830180693|     263|\n",
      "|2149637461|     259|\n",
      "| 320455769|     259|\n",
      "|  49862199|     257|\n",
      "| 213562417|     256|\n",
      "|2485443951|     254|\n",
      "+----------+--------+\n",
      "only showing top 20 rows\n",
      "\n"
     ]
    }
   ],
   "source": [
    "sna_Graph.inDegrees.sort('inDegree', ascending=False).show()"
   ]
  },
  {
   "cell_type": "markdown",
   "metadata": {
    "collapsed": true
   },
   "source": [
    "### Graph outdegree\n",
    "Sort the vertices based on the outDegree and show the top 20 rows\n"
   ]
  },
  {
   "cell_type": "code",
   "execution_count": 9,
   "metadata": {
    "collapsed": false
   },
   "outputs": [
    {
     "name": "stdout",
     "output_type": "stream",
     "text": [
      "+------------------+---------+\n",
      "|                id|outDegree|\n",
      "+------------------+---------+\n",
      "|         292417113|      138|\n",
      "|         109088737|      102|\n",
      "|         249014213|       49|\n",
      "|         224314351|       48|\n",
      "|741351844362915846|       43|\n",
      "|744380735100858369|       38|\n",
      "|         208243253|       36|\n",
      "|         191674711|       30|\n",
      "|          47481461|       29|\n",
      "|         121337468|       28|\n",
      "|        1332595111|       27|\n",
      "|748289232972582912|       25|\n",
      "|          58377545|       25|\n",
      "|746278469177384961|       24|\n",
      "|736302842496045057|       24|\n",
      "|         199821749|       24|\n",
      "|          30803766|       24|\n",
      "|         111618023|       23|\n",
      "|        1099786399|       23|\n",
      "|         420075870|       22|\n",
      "+------------------+---------+\n",
      "only showing top 20 rows\n",
      "\n"
     ]
    }
   ],
   "source": [
    "sna_Graph.outDegrees.sort('outDegree',ascending=False).show()"
   ]
  },
  {
   "cell_type": "markdown",
   "metadata": {},
   "source": [
    "###  PageRank\n",
    "Run the PageRank algorithm on the graphframe. Sort the results based on pagerank and list the top 20 rows."
   ]
  },
  {
   "cell_type": "code",
   "execution_count": 10,
   "metadata": {
    "collapsed": false,
    "scrolled": true
   },
   "outputs": [
    {
     "name": "stdout",
     "output_type": "stream",
     "text": [
      "+------------------+------------------+\n",
      "|                id|          pagerank|\n",
      "+------------------+------------------+\n",
      "|         292417113|2096.8267965976465|\n",
      "|736302842496045057|1683.3349026011945|\n",
      "|        1332595111|1082.8139035419747|\n",
      "|         224314351|  912.832967680284|\n",
      "|741351844362915846|  796.000924418758|\n",
      "|         249014213| 792.5400662919325|\n",
      "|         109088737|  717.118647015483|\n",
      "|         895948314| 575.7891671169604|\n",
      "|744380735100858369|   513.97804949864|\n",
      "|        1099786399|500.58541644862066|\n",
      "|748289232972582912| 272.0488691881934|\n",
      "|746278469177384961|271.11062808072677|\n",
      "|        2902981373|232.04126123535772|\n",
      "|        1049448162|214.19359623140426|\n",
      "|          49862199|196.48823326781095|\n",
      "|          37247645| 186.0075429616639|\n",
      "|         249168748|182.96643345818617|\n",
      "|         304580751|182.45703822551692|\n",
      "|         320455769| 181.5170042591198|\n",
      "|         225520398|169.81087034066056|\n",
      "+------------------+------------------+\n",
      "only showing top 20 rows\n",
      "\n"
     ]
    }
   ],
   "source": [
    "results = sna_Graph.pageRank(resetProbability=0.15, maxIter=10)\n",
    "\n",
    "sna_rank = results.vertices.sort('pagerank',ascending=False)\n",
    "sna_rank.show()"
   ]
  },
  {
   "cell_type": "markdown",
   "metadata": {},
   "source": [
    "### Label Propagation\n",
    "\n",
    "Run the label propagation alogorithm to find the communities in the network. "
   ]
  },
  {
   "cell_type": "code",
   "execution_count": 11,
   "metadata": {
    "collapsed": true
   },
   "outputs": [],
   "source": [
    "communities=sna_Graph.labelPropagation(maxIter=10)"
   ]
  },
  {
   "cell_type": "markdown",
   "metadata": {},
   "source": [
    "### Communities\n",
    "Display the communities and total no of communities."
   ]
  },
  {
   "cell_type": "code",
   "execution_count": 12,
   "metadata": {
    "collapsed": false
   },
   "outputs": [
    {
     "name": "stdout",
     "output_type": "stream",
     "text": [
      "+------------------+-----+\n",
      "|                id|label|\n",
      "+------------------+-----+\n",
      "|        1332595111|    3|\n",
      "|750098559484043264|   47|\n",
      "|          39096451|   47|\n",
      "|746278469177384961|   15|\n",
      "|740215465536954368|   19|\n",
      "|          23277482|   47|\n",
      "|        1268241504|   27|\n",
      "|736575530884071426|   31|\n",
      "|        1439425182|   35|\n",
      "|         249168748|   39|\n",
      "|          15586037|   43|\n",
      "|        1099786399|   47|\n",
      "|733932435935629312|   51|\n",
      "|736301137410818048|   55|\n",
      "|        2259030413|   59|\n",
      "|741580973108690948|   63|\n",
      "|        3067369849|   67|\n",
      "|        1426954831|  309|\n",
      "|         424760563|  309|\n",
      "|        2195048798|   79|\n",
      "+------------------+-----+\n",
      "only showing top 20 rows\n",
      "\n",
      "Total no. of communities:  1994\n"
     ]
    }
   ],
   "source": [
    "communities.select('id','label').show()\n",
    "print \"Total no. of communities: \", communities.select(communities.label).distinct().count()"
   ]
  },
  {
   "cell_type": "markdown",
   "metadata": {},
   "source": [
    "### Social Network Data\n",
    "Creata a social network data frame that holds the src vertex, dest vertex, pagerank of src vertex and the community label for the source id. This information can be used to analyse the data."
   ]
  },
  {
   "cell_type": "code",
   "execution_count": 13,
   "metadata": {
    "collapsed": false
   },
   "outputs": [
    {
     "data": {
      "text/plain": [
       "62428"
      ]
     },
     "execution_count": 13,
     "metadata": {},
     "output_type": "execute_result"
    }
   ],
   "source": [
    "e_list=e_list.distinct()\n",
    "comm_rank = communities.join(sna_rank,communities.id==sna_rank.id,\"inner\").select(communities.id,communities.label, sna_rank.pagerank)\n",
    "sna_network = comm_rank.join(e_list, e_list.src==comm_rank.id,\"inner\").select(comm_rank.id,e_list.dst,comm_rank.label,comm_rank.pagerank)\n",
    "sna_network.count()\n"
   ]
  },
  {
   "cell_type": "markdown",
   "metadata": {},
   "source": [
    "### Save the Output"
   ]
  },
  {
   "cell_type": "code",
   "execution_count": 14,
   "metadata": {
    "collapsed": true
   },
   "outputs": [],
   "source": [
    "sna_network.repartition(1).rdd.saveAsTextFile(\"/home/shan/SNA/output/\")"
   ]
  },
  {
   "cell_type": "code",
   "execution_count": 15,
   "metadata": {
    "collapsed": true
   },
   "outputs": [],
   "source": [
    "sna_network.write.json(\"/home/shan/SNA/json/\")"
   ]
  },
  {
   "cell_type": "code",
   "execution_count": null,
   "metadata": {
    "collapsed": true
   },
   "outputs": [],
   "source": []
  }
 ],
 "metadata": {
  "kernelspec": {
   "display_name": "Python 2",
   "language": "python",
   "name": "python2"
  },
  "language_info": {
   "codemirror_mode": {
    "name": "ipython",
    "version": 2
   },
   "file_extension": ".py",
   "mimetype": "text/x-python",
   "name": "python",
   "nbconvert_exporter": "python",
   "pygments_lexer": "ipython2",
   "version": "2.7.10"
  },
  "name": "sna",
  "notebookId": 2608974087822326
 },
 "nbformat": 4,
 "nbformat_minor": 0
}
